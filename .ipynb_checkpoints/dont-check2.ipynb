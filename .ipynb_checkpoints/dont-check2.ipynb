{
 "cells": [
  {
   "cell_type": "code",
   "execution_count": 12,
   "id": "25dd541c",
   "metadata": {},
   "outputs": [
    {
     "name": "stdout",
     "output_type": "stream",
     "text": [
      "Number of Cars: 503\n"
     ]
    }
   ],
   "source": [
    "import cv2\n",
    "\n",
    "# read image from file\n",
    "img = cv2.imread('sat.png')\n",
    "\n",
    "# check if image is not empty\n",
    "if img is not None:\n",
    "    # convert image to grayscale\n",
    "    gray_img = cv2.cvtColor(img, cv2.COLOR_BGR2GRAY)\n",
    "else:\n",
    "    print('Error: Failed to read image file')\n",
    "# Convert to grayscale\n",
    "gray = cv2.cvtColor(img, cv2.COLOR_BGR2GRAY)\n",
    "\n",
    "# Apply a Gaussian blur to reduce noise\n",
    "gray_blur = cv2.GaussianBlur(gray, (5,5), 0)\n",
    "\n",
    "# Apply Canny edge detection to identify edges\n",
    "edges = cv2.Canny(gray_blur, 50, 150, apertureSize=3)\n",
    "\n",
    "# Find contours in the image\n",
    "contours, hierarchy = cv2.findContours(edges, cv2.RETR_TREE, cv2.CHAIN_APPROX_SIMPLE)\n",
    "\n",
    "# Draw contours on the original image\n",
    "cv2.drawContours(img, contours, -1, (0,255,0), 3)\n",
    "\n",
    "# Count the number of contours\n",
    "num_cars = len(contours)\n",
    "\n",
    "# Display the image with contours and number of cars\n",
    "cv2.imshow(\"Image with Contours\", img)\n",
    "print(f\"Number of Cars: {num_cars}\")\n",
    "\n",
    "# Wait for user input\n",
    "cv2.waitKey(0)\n",
    "cv2.destroyAllWindows()\n"
   ]
  },
  {
   "cell_type": "code",
   "execution_count": null,
   "id": "26f21578",
   "metadata": {},
   "outputs": [
    {
     "name": "stdout",
     "output_type": "stream",
     "text": [
      "Number of Red Lines: 110\n"
     ]
    }
   ],
   "source": [
    "import cv2\n",
    "import numpy as np\n",
    "\n",
    "# Read image from file\n",
    "img = cv2.imread('04_30pm.png')\n",
    "\n",
    "# Convert image to HSV color space\n",
    "hsv_img = cv2.cvtColor(img, cv2.COLOR_BGR2HSV)\n",
    "\n",
    "# Define lower and upper bounds for red color\n",
    "lower_red = np.array([0, 50, 50])\n",
    "upper_red = np.array([10, 255, 255])\n",
    "lower_red2 = np.array([170, 50, 50])\n",
    "upper_red2 = np.array([180, 255, 255])\n",
    "\n",
    "# Create a mask for red color using the defined bounds\n",
    "mask1 = cv2.inRange(hsv_img, lower_red, upper_red)\n",
    "mask2 = cv2.inRange(hsv_img, lower_red2, upper_red2)\n",
    "mask = cv2.bitwise_or(mask1, mask2)\n",
    "\n",
    "# Apply a Gaussian blur to reduce noise\n",
    "mask_blur = cv2.GaussianBlur(mask, (5, 5), 0)\n",
    "\n",
    "# Apply Canny edge detection to identify edges\n",
    "edges = cv2.Canny(mask_blur, 50, 150, apertureSize=3)\n",
    "\n",
    "# Find contours in the image\n",
    "contours, hierarchy = cv2.findContours(edges, cv2.RETR_TREE, cv2.CHAIN_APPROX_SIMPLE)\n",
    "\n",
    "# Draw contours on the original image\n",
    "cv2.drawContours(img, contours, -1, (0,255,0), 3)\n",
    "\n",
    "# Count the number of contours\n",
    "num_lines = len(contours)\n",
    "\n",
    "# Display the image with contours and number of red lines\n",
    "cv2.imshow(\"Image with Contours\", img)\n",
    "print(f\"Number of Red Lines: {num_lines}\")\n",
    "\n",
    "# Wait for user input\n",
    "cv2.waitKey(0)\n",
    "cv2.destroyAllWindows()\n"
   ]
  },
  {
   "cell_type": "code",
   "execution_count": null,
   "id": "f8f30568",
   "metadata": {},
   "outputs": [],
   "source": [
    "import cv2\n",
    "import numpy as np\n",
    "\n",
    "# Read image from file\n",
    "img = cv2.imread('04_30pm.png')\n",
    "\n",
    "# Convert image to HSV color space\n",
    "hsv_img = cv2.cvtColor(img, cv2.COLOR_BGR2HSV)\n",
    "\n",
    "# Define lower and upper bounds for red color\n",
    "red_lower = np.array([0, 50, 50])\n",
    "red_upper = np.array([10, 255, 255])\n",
    "red_mask1 = cv2.inRange(hsv_img, red_lower, red_upper)\n",
    "\n",
    "red_lower = np.array([170, 50, 50])\n",
    "red_upper = np.array([180, 255, 255])\n",
    "red_mask2 = cv2.inRange(hsv_img, red_lower, red_upper)\n",
    "\n",
    "# Combine masks for red color\n",
    "red_mask = red_mask1 + red_mask2\n",
    "\n",
    "# Apply bitwise and to original image\n",
    "red_img = cv2.bitwise_and(img, img, mask=red_mask)\n",
    "\n",
    "# Convert image to grayscale\n",
    "gray_img = cv2.cvtColor(red_img, cv2.COLOR_BGR2GRAY)\n",
    "\n",
    "# Apply threshold to binarize image\n",
    "thresh_img = cv2.threshold(gray_img, 50, 255, cv2.THRESH_BINARY)[1]\n",
    "\n",
    "# Find contours in the image\n",
    "contours, hierarchy = cv2.findContours(thresh_img, cv2.RETR_EXTERNAL, cv2.CHAIN_APPROX_SIMPLE)\n",
    "\n",
    "# Draw contours on the original image\n",
    "cv2.drawContours(img, contours, -1, (0, 0, 255), 2)\n",
    "\n",
    "# Display the original image with red lines highlighted\n",
    "cv2.imshow(\"Red lines detected\", img)\n",
    "\n",
    "# Wait for user input\n",
    "cv2.waitKey(0)\n",
    "cv2.destroyAllWindows()\n"
   ]
  },
  {
   "cell_type": "code",
   "execution_count": null,
   "id": "3eb59545",
   "metadata": {},
   "outputs": [],
   "source": []
  }
 ],
 "metadata": {
  "kernelspec": {
   "display_name": "Python 3 (ipykernel)",
   "language": "python",
   "name": "python3"
  },
  "language_info": {
   "codemirror_mode": {
    "name": "ipython",
    "version": 3
   },
   "file_extension": ".py",
   "mimetype": "text/x-python",
   "name": "python",
   "nbconvert_exporter": "python",
   "pygments_lexer": "ipython3",
   "version": "3.9.13"
  }
 },
 "nbformat": 4,
 "nbformat_minor": 5
}
