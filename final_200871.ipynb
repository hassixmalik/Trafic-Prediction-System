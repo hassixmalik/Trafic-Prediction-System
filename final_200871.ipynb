{
 "cells": [
  {
   "cell_type": "code",
   "execution_count": 18,
   "id": "30e12e39",
   "metadata": {},
   "outputs": [
    {
     "name": "stdout",
     "output_type": "stream",
     "text": [
      "Enter hour between 8am and 5pm (e.g. 8am, 8_30am, 9am, etc.): 15_00\n",
      "Around 15_00, there are possibilities of road blockage at 7 points\n",
      "\n",
      "==================Generating suggestions regarding predicted traffic condition=========================\n",
      "\n",
      "It is suggested to try different timing, you can check predictions for next 30 minutes or previous 30 minutes to plan your best route!\n"
     ]
    }
   ],
   "source": [
    "\n",
    "import cv2\n",
    "import numpy as np\n",
    "\n",
    "# Define the HSV range for red color\n",
    "lower_red = np.array([0, 50, 50])\n",
    "upper_red = np.array([10, 255, 255])\n",
    "lower_red2 = np.array([170, 50, 50])\n",
    "upper_red2 = np.array([180, 255, 255])\n",
    "\n",
    "# Load all the images and store them in a dictionary\n",
    "IMAGES = {}\n",
    "for i in range(8, 18):\n",
    "    for j in range(0, 60, 30):\n",
    "        hour = f\"{i:02}_{j:02}\"\n",
    "        if i < 12:\n",
    "            filename = f\"{hour}am.png\"\n",
    "        elif i == 12:\n",
    "            filename = f\"{hour}pm.png\"\n",
    "        else:\n",
    "            filename = f\"{i-12:02}_{j:02}pm.png\"\n",
    "        image = cv2.imread(filename)\n",
    "        IMAGES[hour] = image\n",
    "\n",
    "        \n",
    "def detect_red(img,usr_inpt):            \n",
    "    # Load the image\n",
    "    #img = cv2.imread('04_30pm.png')\n",
    "\n",
    "    # Convert the image to HSV color space\n",
    "    hsv = cv2.cvtColor(img, cv2.COLOR_BGR2HSV)\n",
    "\n",
    "    # Threshold the image to get the red lines\n",
    "    mask1 = cv2.inRange(hsv, lower_red, upper_red)\n",
    "    mask2 = cv2.inRange(hsv, lower_red2, upper_red2)\n",
    "    mask = cv2.bitwise_or(mask1, mask2)\n",
    "\n",
    "    # Apply some morphological operations to clean up the mask\n",
    "    kernel = np.ones((5, 5), np.uint8)\n",
    "    mask = cv2.morphologyEx(mask, cv2.MORPH_OPEN, kernel)\n",
    "    mask = cv2.morphologyEx(mask, cv2.MORPH_CLOSE, kernel)\n",
    "\n",
    "    # Find contours in the mask\n",
    "    contours, hierarchy = cv2.findContours(mask, cv2.RETR_EXTERNAL, cv2.CHAIN_APPROX_SIMPLE)\n",
    "\n",
    "    # Draw the contours on the original image\n",
    "    cv2.drawContours(img, contours, -1, (0, 0, 255), 2)\n",
    "\n",
    "\n",
    "    # Display the image and the number of red lines detected\n",
    "    cv2.imshow('image', img)\n",
    "    cv2.waitKey(0)\n",
    "    cv2.destroyAllWindows()\n",
    "\n",
    "    print(f\"Around {usr_inpt}, there are possibilities of road blockage at {len(contours)} points\")\n",
    "\n",
    "    return len(contours)\n",
    "\n",
    "def suggest_routes(userInput, noOfBlocks):\n",
    "    print(f\"\\n==================Generating suggestions regarding predicted traffic condition=========================\\n\")\n",
    "    print(f\"It is suggested to try different timing, you can check predictions for next 30 minutes or previous 30 minutes to plan your best route!\")\n",
    "\n",
    "# Ask the user for input\n",
    "user_input = input(\"Enter hour between 8am and 5pm (e.g. 8am, 8_30am, 9am, etc.): \")\n",
    "\n",
    "# Check if the input is valid\n",
    "if user_input not in IMAGES:\n",
    "    print(\"Invalid input\")\n",
    "else:\n",
    "    # Get the corresponding image and perform blob detection\n",
    "    image = IMAGES[user_input]    #this image has the exact name as user input\n",
    "    length=detect_red(image,user_input)\n",
    "    suggest_routes(user_input,length)\n",
    "   "
   ]
  },
  {
   "cell_type": "code",
   "execution_count": null,
   "id": "6e8dcab5",
   "metadata": {},
   "outputs": [],
   "source": []
  }
 ],
 "metadata": {
  "kernelspec": {
   "display_name": "Python 3 (ipykernel)",
   "language": "python",
   "name": "python3"
  },
  "language_info": {
   "codemirror_mode": {
    "name": "ipython",
    "version": 3
   },
   "file_extension": ".py",
   "mimetype": "text/x-python",
   "name": "python",
   "nbconvert_exporter": "python",
   "pygments_lexer": "ipython3",
   "version": "3.9.13"
  }
 },
 "nbformat": 4,
 "nbformat_minor": 5
}
